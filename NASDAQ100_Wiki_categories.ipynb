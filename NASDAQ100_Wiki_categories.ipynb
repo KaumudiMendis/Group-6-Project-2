{
 "cells": [
  {
   "cell_type": "code",
   "execution_count": 18,
   "id": "e41ae531",
   "metadata": {
    "scrolled": false
   },
   "outputs": [
    {
     "data": {
      "text/html": [
       "<div>\n",
       "<style scoped>\n",
       "    .dataframe tbody tr th:only-of-type {\n",
       "        vertical-align: middle;\n",
       "    }\n",
       "\n",
       "    .dataframe tbody tr th {\n",
       "        vertical-align: top;\n",
       "    }\n",
       "\n",
       "    .dataframe thead th {\n",
       "        text-align: right;\n",
       "    }\n",
       "</style>\n",
       "<table border=\"1\" class=\"dataframe\">\n",
       "  <thead>\n",
       "    <tr style=\"text-align: right;\">\n",
       "      <th></th>\n",
       "      <th>Company</th>\n",
       "      <th>Ticker</th>\n",
       "      <th>GICS Sector</th>\n",
       "      <th>GICS Sub-Industry</th>\n",
       "    </tr>\n",
       "  </thead>\n",
       "  <tbody>\n",
       "    <tr>\n",
       "      <th>0</th>\n",
       "      <td>Activision Blizzard</td>\n",
       "      <td>ATVI</td>\n",
       "      <td>Communication Services</td>\n",
       "      <td>Interactive Home Entertainment</td>\n",
       "    </tr>\n",
       "    <tr>\n",
       "      <th>1</th>\n",
       "      <td>Adobe</td>\n",
       "      <td>ADBE</td>\n",
       "      <td>Information Technology</td>\n",
       "      <td>Application Software</td>\n",
       "    </tr>\n",
       "    <tr>\n",
       "      <th>2</th>\n",
       "      <td>ADP</td>\n",
       "      <td>ADP</td>\n",
       "      <td>Information Technology</td>\n",
       "      <td>Data Processing &amp; Outsourced Services</td>\n",
       "    </tr>\n",
       "    <tr>\n",
       "      <th>3</th>\n",
       "      <td>Airbnb</td>\n",
       "      <td>ABNB</td>\n",
       "      <td>Consumer Discretionary</td>\n",
       "      <td>Internet &amp; Direct Marketing Retail</td>\n",
       "    </tr>\n",
       "    <tr>\n",
       "      <th>4</th>\n",
       "      <td>Align</td>\n",
       "      <td>ALGN</td>\n",
       "      <td>Health Care</td>\n",
       "      <td>Health Care Supplies</td>\n",
       "    </tr>\n",
       "    <tr>\n",
       "      <th>...</th>\n",
       "      <td>...</td>\n",
       "      <td>...</td>\n",
       "      <td>...</td>\n",
       "      <td>...</td>\n",
       "    </tr>\n",
       "    <tr>\n",
       "      <th>97</th>\n",
       "      <td>Walgreens Boots Alliance</td>\n",
       "      <td>WBA</td>\n",
       "      <td>Consumer Staples</td>\n",
       "      <td>Drug Retail</td>\n",
       "    </tr>\n",
       "    <tr>\n",
       "      <th>98</th>\n",
       "      <td>Workday</td>\n",
       "      <td>WDAY</td>\n",
       "      <td>Information Technology</td>\n",
       "      <td>Application Software</td>\n",
       "    </tr>\n",
       "    <tr>\n",
       "      <th>99</th>\n",
       "      <td>Xcel Energy</td>\n",
       "      <td>XEL</td>\n",
       "      <td>Utilities</td>\n",
       "      <td>Multi-Utilities</td>\n",
       "    </tr>\n",
       "    <tr>\n",
       "      <th>100</th>\n",
       "      <td>Zoom</td>\n",
       "      <td>ZM</td>\n",
       "      <td>Information Technology</td>\n",
       "      <td>Application Software</td>\n",
       "    </tr>\n",
       "    <tr>\n",
       "      <th>101</th>\n",
       "      <td>Zscaler</td>\n",
       "      <td>ZS</td>\n",
       "      <td>Information Technology</td>\n",
       "      <td>Application Software</td>\n",
       "    </tr>\n",
       "  </tbody>\n",
       "</table>\n",
       "<p>102 rows × 4 columns</p>\n",
       "</div>"
      ],
      "text/plain": [
       "                      Company Ticker             GICS Sector  \\\n",
       "0         Activision Blizzard   ATVI  Communication Services   \n",
       "1                       Adobe   ADBE  Information Technology   \n",
       "2                         ADP    ADP  Information Technology   \n",
       "3                      Airbnb   ABNB  Consumer Discretionary   \n",
       "4                       Align   ALGN             Health Care   \n",
       "..                        ...    ...                     ...   \n",
       "97   Walgreens Boots Alliance    WBA        Consumer Staples   \n",
       "98                    Workday   WDAY  Information Technology   \n",
       "99                Xcel Energy    XEL               Utilities   \n",
       "100                      Zoom     ZM  Information Technology   \n",
       "101                   Zscaler     ZS  Information Technology   \n",
       "\n",
       "                         GICS Sub-Industry  \n",
       "0           Interactive Home Entertainment  \n",
       "1                     Application Software  \n",
       "2    Data Processing & Outsourced Services  \n",
       "3       Internet & Direct Marketing Retail  \n",
       "4                     Health Care Supplies  \n",
       "..                                     ...  \n",
       "97                             Drug Retail  \n",
       "98                    Application Software  \n",
       "99                         Multi-Utilities  \n",
       "100                   Application Software  \n",
       "101                   Application Software  \n",
       "\n",
       "[102 rows x 4 columns]"
      ]
     },
     "execution_count": 18,
     "metadata": {},
     "output_type": "execute_result"
    }
   ],
   "source": [
    "import pandas as pd\n",
    "\n",
    "wiki_url = 'https://en.m.wikipedia.org/wiki/Nasdaq-100'\n",
    "\n",
    "#Parse data from the html into a beautifulsoup object\n",
    "\n",
    "nd_100_df=pd.read_html(wiki_url)[3] #3 returns the table we are searching for\n",
    "nd_100_df\n",
    "\n"
   ]
  },
  {
   "cell_type": "code",
   "execution_count": 19,
   "id": "bd53166b",
   "metadata": {
    "scrolled": true
   },
   "outputs": [
    {
     "name": "stdout",
     "output_type": "stream",
     "text": [
      "{\"Company\":{\"0\":\"Activision Blizzard\",\"1\":\"Adobe\",\"2\":\"ADP\",\"3\":\"Airbnb\",\"4\":\"Align\",\"5\":\"Alphabet (Class A)\",\"6\":\"Alphabet (Class C)\",\"7\":\"Amazon\",\"8\":\"AMD\",\"9\":\"American Electric Power\",\"10\":\"Amgen\",\"11\":\"Analog Devices\",\"12\":\"Ansys\",\"13\":\"Apple\",\"14\":\"Applied Materials\",\"15\":\"ASML\",\"16\":\"AstraZeneca\",\"17\":\"Atlassian\",\"18\":\"Autodesk\",\"19\":\"Baidu\",\"20\":\"Biogen\",\"21\":\"Booking Holdings\",\"22\":\"Broadcom\",\"23\":\"Cadence\",\"24\":\"Charter Communications\",\"25\":\"Cintas\",\"26\":\"Cisco\",\"27\":\"Cognizant\",\"28\":\"Comcast\",\"29\":\"Constellation\",\"30\":\"Copart\",\"31\":\"Costco\",\"32\":\"CrowdStrike\",\"33\":\"CSX\",\"34\":\"Datadog\",\"35\":\"DexCom\",\"36\":\"DocuSign\",\"37\":\"Dollar Tree\",\"38\":\"eBay\",\"39\":\"Electronic Arts\",\"40\":\"Exelon\",\"41\":\"Fastenal\",\"42\":\"Fiserv\",\"43\":\"Fortinet\",\"44\":\"Gilead\",\"45\":\"Honeywell\",\"46\":\"Idexx Laboratories\",\"47\":\"Illumina\",\"48\":\"Intel\",\"49\":\"Intuit\",\"50\":\"Intuitive Surgical\",\"51\":\"JD.com\",\"52\":\"Keurig Dr Pepper\",\"53\":\"KLA\",\"54\":\"Kraft Heinz\",\"55\":\"Lam Research\",\"56\":\"Lucid\",\"57\":\"Lululemon\",\"58\":\"Marriott International\",\"59\":\"Marvell\",\"60\":\"Match Group\",\"61\":\"MercadoLibre\",\"62\":\"Meta\",\"63\":\"Microchip\",\"64\":\"Micron\",\"65\":\"Microsoft\",\"66\":\"Moderna\",\"67\":\"Mondel\\u0113z International\",\"68\":\"Monster Beverage\",\"69\":\"NetEase\",\"70\":\"Netflix\",\"71\":\"Nvidia\",\"72\":\"NXP\",\"73\":\"O'Reilly Automotive\",\"74\":\"Okta\",\"75\":\"Old Dominion Freight Line\",\"76\":\"Paccar\",\"77\":\"Palo Alto Networks\",\"78\":\"Paychex\",\"79\":\"PayPal\",\"80\":\"PepsiCo\",\"81\":\"Pinduoduo\",\"82\":\"Qualcomm\",\"83\":\"Regeneron\",\"84\":\"Ross Stores\",\"85\":\"Seagen\",\"86\":\"Sirius XM\",\"87\":\"Skyworks\",\"88\":\"Splunk\",\"89\":\"Starbucks\",\"90\":\"Synopsys\",\"91\":\"T-Mobile\",\"92\":\"Tesla\",\"93\":\"Texas Instruments\",\"94\":\"Verisign\",\"95\":\"Verisk\",\"96\":\"Vertex\",\"97\":\"Walgreens Boots Alliance\",\"98\":\"Workday\",\"99\":\"Xcel Energy\",\"100\":\"Zoom\",\"101\":\"Zscaler\"},\"Ticker\":{\"0\":\"ATVI\",\"1\":\"ADBE\",\"2\":\"ADP\",\"3\":\"ABNB\",\"4\":\"ALGN\",\"5\":\"GOOGL\",\"6\":\"GOOG\",\"7\":\"AMZN\",\"8\":\"AMD\",\"9\":\"AEP\",\"10\":\"AMGN\",\"11\":\"ADI\",\"12\":\"ANSS\",\"13\":\"AAPL\",\"14\":\"AMAT\",\"15\":\"ASML\",\"16\":\"AZN\",\"17\":\"TEAM\",\"18\":\"ADSK\",\"19\":\"BIDU\",\"20\":\"BIIB\",\"21\":\"BKNG\",\"22\":\"AVGO\",\"23\":\"CDNS\",\"24\":\"CHTR\",\"25\":\"CTAS\",\"26\":\"CSCO\",\"27\":\"CTSH\",\"28\":\"CMCSA\",\"29\":\"CEG\",\"30\":\"CPRT\",\"31\":\"COST\",\"32\":\"CRWD\",\"33\":\"CSX\",\"34\":\"DDOG\",\"35\":\"DXCM\",\"36\":\"DOCU\",\"37\":\"DLTR\",\"38\":\"EBAY\",\"39\":\"EA\",\"40\":\"EXC\",\"41\":\"FAST\",\"42\":\"FISV\",\"43\":\"FTNT\",\"44\":\"GILD\",\"45\":\"HON\",\"46\":\"IDXX\",\"47\":\"ILMN\",\"48\":\"INTC\",\"49\":\"INTU\",\"50\":\"ISRG\",\"51\":\"JD\",\"52\":\"KDP\",\"53\":\"KLAC\",\"54\":\"KHC\",\"55\":\"LRCX\",\"56\":\"LCID\",\"57\":\"LULU\",\"58\":\"MAR\",\"59\":\"MRVL\",\"60\":\"MTCH\",\"61\":\"MELI\",\"62\":\"FB\",\"63\":\"MCHP\",\"64\":\"MU\",\"65\":\"MSFT\",\"66\":\"MRNA\",\"67\":\"MDLZ\",\"68\":\"MNST\",\"69\":\"NTES\",\"70\":\"NFLX\",\"71\":\"NVDA\",\"72\":\"NXPI\",\"73\":\"ORLY\",\"74\":\"OKTA\",\"75\":\"ODFL\",\"76\":\"PCAR\",\"77\":\"PANW\",\"78\":\"PAYX\",\"79\":\"PYPL\",\"80\":\"PEP\",\"81\":\"PDD\",\"82\":\"QCOM\",\"83\":\"REGN\",\"84\":\"ROST\",\"85\":\"SGEN\",\"86\":\"SIRI\",\"87\":\"SWKS\",\"88\":\"SPLK\",\"89\":\"SBUX\",\"90\":\"SNPS\",\"91\":\"TMUS\",\"92\":\"TSLA\",\"93\":\"TXN\",\"94\":\"VRSN\",\"95\":\"VRSK\",\"96\":\"VRTX\",\"97\":\"WBA\",\"98\":\"WDAY\",\"99\":\"XEL\",\"100\":\"ZM\",\"101\":\"ZS\"},\"GICS Sector\":{\"0\":\"Communication Services\",\"1\":\"Information Technology\",\"2\":\"Information Technology\",\"3\":\"Consumer Discretionary\",\"4\":\"Health Care\",\"5\":\"Communication Services\",\"6\":\"Communication Services\",\"7\":\"Consumer Discretionary\",\"8\":\"Information Technology\",\"9\":\"Utilities\",\"10\":\"Health Care\",\"11\":\"Information Technology\",\"12\":\"Information Technology\",\"13\":\"Information Technology\",\"14\":\"Information Technology\",\"15\":\"Information Technology\",\"16\":\"Health Care\",\"17\":\"Information Technology\",\"18\":\"Information Technology\",\"19\":\"Communication Services\",\"20\":\"Health Care\",\"21\":\"Consumer Discretionary\",\"22\":\"Information Technology\",\"23\":\"Information Technology\",\"24\":\"Communication Services\",\"25\":\"Industrials\",\"26\":\"Information Technology\",\"27\":\"Information Technology\",\"28\":\"Communication Services\",\"29\":\"Utilities\",\"30\":\"Industrials\",\"31\":\"Consumer Staples\",\"32\":\"Information Technology\",\"33\":\"Industrials\",\"34\":\"Information Technology\",\"35\":\"Health Care\",\"36\":\"Information Technology\",\"37\":\"Consumer Discretionary\",\"38\":\"Consumer Discretionary\",\"39\":\"Communication Services\",\"40\":\"Utilities\",\"41\":\"Industrials\",\"42\":\"Information Technology\",\"43\":\"Information Technology\",\"44\":\"Health Care\",\"45\":\"Industrials\",\"46\":\"Health Care\",\"47\":\"Health Care\",\"48\":\"Information Technology\",\"49\":\"Information Technology\",\"50\":\"Health Care\",\"51\":\"Consumer Discretionary\",\"52\":\"Consumer Staples\",\"53\":\"Information Technology\",\"54\":\"Consumer Staples\",\"55\":\"Information Technology\",\"56\":\"Consumer Discretionary\",\"57\":\"Consumer Discretionary\",\"58\":\"Consumer Discretionary\",\"59\":\"Information Technology\",\"60\":\"Communication Services\",\"61\":\"Consumer Discretionary\",\"62\":\"Communication Services\",\"63\":\"Information Technology\",\"64\":\"Information Technology\",\"65\":\"Information Technology\",\"66\":\"Health Care\",\"67\":\"Consumer Staples\",\"68\":\"Consumer Staples\",\"69\":\"Communication Services\",\"70\":\"Communication Services\",\"71\":\"Information Technology\",\"72\":\"Information Technology\",\"73\":\"Consumer Discretionary\",\"74\":\"Information Technology\",\"75\":\"Industrials\",\"76\":\"Industrials\",\"77\":\"Information Technology\",\"78\":\"Information Technology\",\"79\":\"Information Technology\",\"80\":\"Consumer Staples\",\"81\":\"Consumer Discretionary\",\"82\":\"Information Technology\",\"83\":\"Health Care\",\"84\":\"Consumer Discretionary\",\"85\":\"Health Care\",\"86\":\"Communication Services\",\"87\":\"Information Technology\",\"88\":\"Information Technology\",\"89\":\"Consumer Discretionary\",\"90\":\"Information Technology\",\"91\":\"Communication Services\",\"92\":\"Consumer Discretionary\",\"93\":\"Information Technology\",\"94\":\"Information Technology\",\"95\":\"Industrials\",\"96\":\"Health Care\",\"97\":\"Consumer Staples\",\"98\":\"Information Technology\",\"99\":\"Utilities\",\"100\":\"Information Technology\",\"101\":\"Information Technology\"},\"GICS Sub-Industry\":{\"0\":\"Interactive Home Entertainment\",\"1\":\"Application Software\",\"2\":\"Data Processing & Outsourced Services\",\"3\":\"Internet & Direct Marketing Retail\",\"4\":\"Health Care Supplies\",\"5\":\"Interactive Media & Services\",\"6\":\"Interactive Media & Services\",\"7\":\"Internet & Direct Marketing Retail\",\"8\":\"Semiconductors\",\"9\":\"Electric Utilities\",\"10\":\"Biotechnology\",\"11\":\"Semiconductors\",\"12\":\"Application Software\",\"13\":\"Technology Hardware, Storage & Peripherals\",\"14\":\"Semiconductor Equipment\",\"15\":\"Semiconductor Equipment\",\"16\":\"Pharmaceuticals\",\"17\":\"Application Software\",\"18\":\"Application Software\",\"19\":\"Interactive Media & Services\",\"20\":\"Biotechnology\",\"21\":\"Internet & Direct Marketing Retail\",\"22\":\"Semiconductors\",\"23\":\"Application Software\",\"24\":\"Cable & Satellite\",\"25\":\"Diversified Support Services\",\"26\":\"Communications Equipment\",\"27\":\"IT Consulting & Other Services\",\"28\":\"Cable & Satellite\",\"29\":\"Multi-Utilities\",\"30\":\"Diversified Support Services\",\"31\":\"Hypermarkets & Super Centers\",\"32\":\"Application Software\",\"33\":\"Railroads\",\"34\":\"Application Software\",\"35\":\"Health Care Equipment\",\"36\":\"Application Software\",\"37\":\"General Merchandise Stores\",\"38\":\"Internet & Direct Marketing Retail\",\"39\":\"Interactive Home Entertainment\",\"40\":\"Multi-Utilities\",\"41\":\"Building Products\",\"42\":\"Data Processing & Outsourced Services\",\"43\":\"Systems Software\",\"44\":\"Biotechnology\",\"45\":\"Industrial Conglomerates\",\"46\":\"Health Care Equipment\",\"47\":\"Life Sciences Tools & Services\",\"48\":\"Semiconductors\",\"49\":\"Application Software\",\"50\":\"Health Care Equipment\",\"51\":\"Internet & Direct Marketing Retail\",\"52\":\"Soft Drinks\",\"53\":\"Semiconductor Equipment\",\"54\":\"Packaged Foods & Meats\",\"55\":\"Semiconductor Equipment\",\"56\":\"Automobile Manufacturers\",\"57\":\"Apparel, Accessories & Luxury Goods\",\"58\":\"Hotels, Resorts & Cruise Lines\",\"59\":\"Application Software\",\"60\":\"Interactive Media & Services\",\"61\":\"Internet & Direct Marketing Retail\",\"62\":\"Interactive Media & Services\",\"63\":\"Semiconductors\",\"64\":\"Semiconductors\",\"65\":\"Systems Software\",\"66\":\"Biotechnology\",\"67\":\"Packaged Foods & Meats\",\"68\":\"Soft Drinks\",\"69\":\"Interactive Home Entertainment\",\"70\":\"Movies & Entertainment\",\"71\":\"Semiconductors\",\"72\":\"Semiconductors\",\"73\":\"Specialty Stores\",\"74\":\"Application Software\",\"75\":\"Trucking\",\"76\":\"Construction Machinery & Heavy Trucks\",\"77\":\"Application Software\",\"78\":\"Data Processing & Outsourced Services\",\"79\":\"Data Processing & Outsourced Services\",\"80\":\"Soft Drinks\",\"81\":\"Internet & Direct Marketing Retail\",\"82\":\"Semiconductors\",\"83\":\"Biotechnology\",\"84\":\"Apparel Retail\",\"85\":\"Biotechnology\",\"86\":\"Broadcasting\",\"87\":\"Semiconductors\",\"88\":\"Application Software\",\"89\":\"Restaurants\",\"90\":\"Application Software\",\"91\":\"Wireless Telecommunication Services\",\"92\":\"Automobile Manufacturers\",\"93\":\"Semiconductors\",\"94\":\"Internet Services & Infrastructure\",\"95\":\"Research & Consulting Services\",\"96\":\"Biotechnology\",\"97\":\"Drug Retail\",\"98\":\"Application Software\",\"99\":\"Multi-Utilities\",\"100\":\"Application Software\",\"101\":\"Application Software\"}}\n"
     ]
    }
   ],
   "source": [
    "nd_100_json = nd_100_df.to_json()\n",
    "print(nd_100_json)"
   ]
  },
  {
   "cell_type": "code",
   "execution_count": null,
   "id": "5258bd91",
   "metadata": {},
   "outputs": [],
   "source": []
  },
  {
   "cell_type": "code",
   "execution_count": null,
   "id": "70c7861c",
   "metadata": {},
   "outputs": [],
   "source": []
  }
 ],
 "metadata": {
  "kernelspec": {
   "display_name": "Python 3 (ipykernel)",
   "language": "python",
   "name": "python3"
  },
  "language_info": {
   "codemirror_mode": {
    "name": "ipython",
    "version": 3
   },
   "file_extension": ".py",
   "mimetype": "text/x-python",
   "name": "python",
   "nbconvert_exporter": "python",
   "pygments_lexer": "ipython3",
   "version": "3.8.8"
  }
 },
 "nbformat": 4,
 "nbformat_minor": 5
}
