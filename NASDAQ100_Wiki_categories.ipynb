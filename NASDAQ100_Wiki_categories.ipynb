{
 "cells": [
  {
   "cell_type": "code",
   "execution_count": 1,
   "id": "e41ae531",
   "metadata": {
    "scrolled": false
   },
   "outputs": [
    {
     "name": "stdout",
     "output_type": "stream",
     "text": [
      "[                      Company Ticker             GICS Sector  \\\n",
      "0         Activision Blizzard   ATVI  Communication Services   \n",
      "1                       Adobe   ADBE  Information Technology   \n",
      "2                         ADP    ADP  Information Technology   \n",
      "3                      Airbnb   ABNB  Consumer Discretionary   \n",
      "4                       Align   ALGN             Health Care   \n",
      "..                        ...    ...                     ...   \n",
      "97   Walgreens Boots Alliance    WBA        Consumer Staples   \n",
      "98                    Workday   WDAY  Information Technology   \n",
      "99                Xcel Energy    XEL               Utilities   \n",
      "100                      Zoom     ZM  Information Technology   \n",
      "101                   Zscaler     ZS  Information Technology   \n",
      "\n",
      "                         GICS Sub-Industry  \n",
      "0           Interactive Home Entertainment  \n",
      "1                     Application Software  \n",
      "2    Data Processing & Outsourced Services  \n",
      "3       Internet & Direct Marketing Retail  \n",
      "4                     Health Care Supplies  \n",
      "..                                     ...  \n",
      "97                             Drug Retail  \n",
      "98                    Application Software  \n",
      "99                         Multi-Utilities  \n",
      "100                   Application Software  \n",
      "101                   Application Software  \n",
      "\n",
      "[102 rows x 4 columns]]\n"
     ]
    }
   ],
   "source": [
    "import requests\n",
    "from bs4 import BeautifulSoup\n",
    "import pandas as pd\n",
    "\n",
    "wiki_url = 'https://en.m.wikipedia.org/wiki/Nasdaq-100'\n",
    "table_id = \"constituents\"\n",
    "#table_class = \"wikitable sortable\"\n",
    "response = requests.get(wiki_url)\n",
    "\n",
    "#Parse data from the html into a beautifulsoup object\n",
    "\n",
    "soup = BeautifulSoup(response.text, 'html.parser')\n",
    "category_table = soup.find('table', attrs={'id': table_id})\n",
    "df=pd.read_html(str(category_table))\n",
    "print(df)\n",
    "\n"
   ]
  },
  {
   "cell_type": "code",
   "execution_count": 2,
   "id": "bd53166b",
   "metadata": {
    "scrolled": true
   },
   "outputs": [
    {
     "data": {
      "text/plain": [
       "[                      Company Ticker             GICS Sector  \\\n",
       " 0         Activision Blizzard   ATVI  Communication Services   \n",
       " 1                       Adobe   ADBE  Information Technology   \n",
       " 2                         ADP    ADP  Information Technology   \n",
       " 3                      Airbnb   ABNB  Consumer Discretionary   \n",
       " 4                       Align   ALGN             Health Care   \n",
       " ..                        ...    ...                     ...   \n",
       " 97   Walgreens Boots Alliance    WBA        Consumer Staples   \n",
       " 98                    Workday   WDAY  Information Technology   \n",
       " 99                Xcel Energy    XEL               Utilities   \n",
       " 100                      Zoom     ZM  Information Technology   \n",
       " 101                   Zscaler     ZS  Information Technology   \n",
       " \n",
       "                          GICS Sub-Industry  \n",
       " 0           Interactive Home Entertainment  \n",
       " 1                     Application Software  \n",
       " 2    Data Processing & Outsourced Services  \n",
       " 3       Internet & Direct Marketing Retail  \n",
       " 4                     Health Care Supplies  \n",
       " ..                                     ...  \n",
       " 97                             Drug Retail  \n",
       " 98                    Application Software  \n",
       " 99                         Multi-Utilities  \n",
       " 100                   Application Software  \n",
       " 101                   Application Software  \n",
       " \n",
       " [102 rows x 4 columns]]"
      ]
     },
     "execution_count": 2,
     "metadata": {},
     "output_type": "execute_result"
    }
   ],
   "source": [
    "df[0].to_csv('nasdaq_100_categoreis.csv')\n"
   ]
  },
  {
   "cell_type": "code",
   "execution_count": null,
   "id": "5258bd91",
   "metadata": {},
   "outputs": [],
   "source": []
  },
  {
   "cell_type": "code",
   "execution_count": null,
   "id": "70c7861c",
   "metadata": {},
   "outputs": [],
   "source": []
  }
 ],
 "metadata": {
  "kernelspec": {
   "display_name": "Python 3 (ipykernel)",
   "language": "python",
   "name": "python3"
  },
  "language_info": {
   "codemirror_mode": {
    "name": "ipython",
    "version": 3
   },
   "file_extension": ".py",
   "mimetype": "text/x-python",
   "name": "python",
   "nbconvert_exporter": "python",
   "pygments_lexer": "ipython3",
   "version": "3.9.7"
  }
 },
 "nbformat": 4,
 "nbformat_minor": 5
}
